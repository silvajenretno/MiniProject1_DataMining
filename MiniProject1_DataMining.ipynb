{
  "nbformat": 4,
  "nbformat_minor": 0,
  "metadata": {
    "colab": {
      "provenance": [],
      "authorship_tag": "ABX9TyNgwNDgznB+1NYw/blUmRYY",
      "include_colab_link": true
    },
    "kernelspec": {
      "name": "python3",
      "display_name": "Python 3"
    },
    "language_info": {
      "name": "python"
    }
  },
  "cells": [
    {
      "cell_type": "markdown",
      "metadata": {
        "id": "view-in-github",
        "colab_type": "text"
      },
      "source": [
        "<a href=\"https://colab.research.google.com/github/silvajenretno/MiniProject1_DataMining/blob/main/MiniProject1_DataMining.ipynb\" target=\"_parent\"><img src=\"https://colab.research.google.com/assets/colab-badge.svg\" alt=\"Open In Colab\"/></a>"
      ]
    },
    {
      "cell_type": "code",
      "execution_count": null,
      "metadata": {
        "id": "8Z39XddArRNS"
      },
      "outputs": [],
      "source": []
    },
    {
      "cell_type": "markdown",
      "source": [
        "### **MENGANALISIS KEBERHASILAN AKADEMIK STUDI KOMPREHENSIF FAKTOR KINERJA SISWA**\n",
        "___________________________________________________________________________\n",
        "\n",
        "#### **Business Understanding**\n",
        "___________________________________________________________________________\n",
        "a.\tBusiness Objective\n",
        "\n",
        "Tujuan dari analisis ini adalah untuk memahami faktor-faktor yang berkontribusi terhadap keberhasilan akademik siswa dalam studi komprehensif. Dengan pemahaman yang lebih baik tentang faktor-faktor ini, institusi pendidikan dapat mengidentifikasi strategi yang efektif untuk meningkatkan kinerja siswa dalam hal akademik.\n",
        "___________________________________________________________________________\n",
        "\n",
        "b.\tAssess Situation\n",
        "\n",
        "Analisis ini bertujuan untuk mengidentifikasi faktor-faktor yang memengaruhi keberhasilan akademik siswa dalam studi komprehensif. Masalah mendasar yang ingin dipecahkan adalah kurangnya pemahaman tentang faktor-faktor apa saja yang secara signifikan memengaruhi kinerja akademik siswa. Dengan pemahaman yang lebih baik tentang faktor-faktor ini, institusi pendidikan dapat mengambil langkah-langkah yang lebih efektif dalam meningkatkan keberhasilan akademik siswa.\n",
        "___________________________________________________________________________\n",
        "\n",
        "c.\tData Mining Goals\n",
        "\n",
        "Tujuan dari analisis data ini adalah untuk mengidentifikasi pola atau tren dalam dataset yang dapat memberikan wawasan tentang faktor-faktor yang berkontribusi terhadap keberhasilan akademik siswa. Dengan demikian, tujuan data mining adalah untuk membantu institusi pendidikan dalam mengambil keputusan dan strategi yang lebih baik dalam meningkatkan kinerja siswa.\n",
        "___________________________________________________________________________\n",
        "\n",
        "d.\tProject Plan\n",
        "\n",
        "Rencana proyek untuk menganalisis dataset ini dimulai dengan pengumpulan data dari sumber yang tersedia. Selanjutnya, data akan dijelaskan karakteristiknya dan pola-pola yang menarik diidentifikasi. Data kemudian digali untuk mengidentifikasi sebab akibat dan hubungan setiap factor-faktornya. Selain itu, kualitas data akan dinilai dan masalah data akan diidentifikasi agar dapat diatasi dalam tahapan berikutnya. Tahep-tahap ini merupakan langkah penting dalam menjamin keberhasilan dari analisis data.\n"
      ],
      "metadata": {
        "id": "ONiLpPDtrVJP"
      }
    },
    {
      "cell_type": "code",
      "source": [],
      "metadata": {
        "id": "dhMNGWYbr_fZ"
      },
      "execution_count": null,
      "outputs": []
    }
  ]
}